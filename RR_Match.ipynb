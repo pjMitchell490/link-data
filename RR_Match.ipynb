{
 "cells": [
  {
   "cell_type": "markdown",
   "metadata": {},
   "source": [
    "# Match Rural Routes to Wells"
   ]
  },
  {
   "cell_type": "markdown",
   "metadata": {},
   "source": [
    "## Import necessary libraries"
   ]
  },
  {
   "cell_type": "code",
   "execution_count": null,
   "metadata": {},
   "outputs": [],
   "source": [
    "import pandas as pd\n",
    "import geopandas as gpd\n",
    "import configparser\n",
    "from pathlib import Path\n",
    "import re"
   ]
  },
  {
   "cell_type": "markdown",
   "metadata": {},
   "source": [
    "## Import Parcels, Wells"
   ]
  },
  {
   "cell_type": "markdown",
   "metadata": {},
   "source": [
    "## Read Config File"
   ]
  },
  {
   "cell_type": "code",
   "execution_count": null,
   "metadata": {},
   "outputs": [],
   "source": [
    "# Config file contains file paths and name of township (uesd to match parcel TWP_CITY column)\n",
    "config = configparser.ConfigParser()\n",
    "config.read('/home/petermitchell/Documents/ContractWork/config.ini')\n",
    "config.sections()\n",
    "\n",
    "twp = config['DEFAULT']['township']\n",
    "verified_wells_path = config['DEFAULT']['verified_wells']\n",
    "unverified_wells_path = config['DEFAULT']['unverified_wells']\n",
    "parcels_path = config['DEFAULT']['parcels']\n",
    "samples_path = config['DEFAULT']['samples']\n",
    "output_path = config['DEFAULT']['output']\n",
    "\n",
    "output_dir = Path(output_path)\n",
    "output_dir.mkdir(parents=True, exist_ok=True)"
   ]
  },
  {
   "cell_type": "code",
   "execution_count": null,
   "metadata": {},
   "outputs": [],
   "source": [
    "parcels = gpd.read_file(parcels_path)\n",
    "# Limit parcels to just those in the desired township\n",
    "#twp_parcels = parcels[parcels['TWP_CITY'] == twp]\n",
    "\n",
    "parcels['Parcel_Township'] = parcels['TWP_CITY'].str.removesuffix(' TOWNSHIP')\n",
    "\n",
    "verified_wells = gpd.read_file(verified_wells_path)\n",
    "unverified_wells = gpd.read_file(unverified_wells_path)\n",
    "\n",
    "verified_wells['Verified'] = True\n",
    "unverified_wells['Verified'] = False\n",
    "\n",
    "# Join verified and unverified wells into a single dataframe\n",
    "wells = gpd.GeoDataFrame(pd.concat([verified_wells, unverified_wells], ignore_index=True))\n",
    "\n",
    "# Export all wells\n",
    "wells.to_file(output_dir / \"wells.gpkg\")"
   ]
  },
  {
   "cell_type": "markdown",
   "metadata": {},
   "source": [
    "## Import Samples file as Pandas dataframe"
   ]
  },
  {
   "cell_type": "code",
   "execution_count": null,
   "metadata": {},
   "outputs": [],
   "source": [
    "samples = pd.read_csv(samples_path)\n",
    "\n",
    "# Create new column with rural route addresses stripped of city and ZIP\n",
    "rr_addresses = []\n",
    "for value in samples['SampleAddress']:\n",
    "    match = re.search('R[RT]\\s\\d*\\sBOX\\s\\d*', value)\n",
    "    rr_addresses.append(match if match is None else match.group())\n",
    "samples['rr_addresses'] = rr_addresses\n",
    "\n",
    "print(len(samples), \"samples provided\")\n",
    "print(samples['rr_addresses'].count(), \"samples have valid RR address\")"
   ]
  },
  {
   "cell_type": "markdown",
   "metadata": {},
   "source": [
    "## Match Rural Routes to Parcels"
   ]
  },
  {
   "cell_type": "code",
   "execution_count": null,
   "metadata": {},
   "outputs": [],
   "source": [
    "# Address_1 field in parcels contains the RR address\n",
    "\n",
    "# Join on ADDRESS_1, rr_addresses\n",
    "\n",
    "located_samples = parcels.merge(samples.dropna(subset='rr_addresses'), left_on='ADDRESS_1', right_on='rr_addresses')\n",
    "located_samples = located_samples[located_samples['Parcel_Township'] == located_samples['Township']]\n",
    "\n",
    "print(len(located_samples), \"samples match at least one parcel\")\n",
    "#print(located_samples.columns)\n",
    "# Set the right coordinate system (NAD27 UTM 15N, EPSG 26915)\n",
    "located_samples = located_samples.to_crs(26915)\n",
    "located_samples.to_file(output_dir / 'located_many.gpkg')\n",
    "# Remove uncessary columns, drop cases where multiple parcels have the same RR address\n",
    "located_samples = located_samples[['Lab_SampleID', 'rr_addresses', 'ADDRESS_1', 'geometry', 'Parcel_Township']].drop_duplicates(subset='Lab_SampleID', keep=False)\n",
    "\n",
    "\n",
    "print(len(located_samples), \"samples match exactly one parcel\")\n",
    "\n",
    "\n"
   ]
  },
  {
   "cell_type": "markdown",
   "metadata": {},
   "source": [
    "## Check for matching well"
   ]
  },
  {
   "cell_type": "code",
   "execution_count": null,
   "metadata": {},
   "outputs": [],
   "source": [
    "sample_well_match = gpd.sjoin(located_samples, wells, how=\"inner\", predicate=\"intersects\")\n",
    "#print(sample_well_match.length)\n",
    "sample_well_match.to_file(output_dir / 'sample_well_match.gpkg')\n",
    "\n",
    "# Drop rows where the sample year is before the well drill year\n",
    "print(sample_well_match['Lab_SampleID'][:4])\n",
    "print(sample_well_match['DATE_DRLL'][:4])\n",
    "sample_well_match = sample_well_match[sample_well_match['Lab_SampleID'][:4] >= sample_well_match['DATE_DRLL'][:4]]#currently this is getting the first 4 entries in the series, not the first 4 characters of the string :/ \n",
    "\n",
    "# Filter to only necessary columns and remove cases where there are multiple wells on a parcel\n",
    "unique_sample_well_match = sample_well_match[['Lab_SampleID', 'rr_addresses', 'UTME', 'UTMN', 'WELLID', 'Verified', 'geometry']].drop_duplicates(subset='Lab_SampleID', keep=False)\n",
    "unique_sample_well_match.to_file(output_dir / 'unique_sample_well_match.gpkg')\n",
    "unique_sample_well_match.to_csv(output_dir / 'unique_sample_well_match.csv')\n",
    "\n",
    "print(\"Matches with at least one well:\", len(sample_well_match))\n",
    "print(\"Matches with exactly one well:\", len(unique_sample_well_match))\n"
   ]
  },
  {
   "cell_type": "code",
   "execution_count": null,
   "metadata": {},
   "outputs": [],
   "source": [
    "located_samples.to_file(output_dir / 'located_samples.gpkg')"
   ]
  }
 ],
 "metadata": {
  "kernelspec": {
   "display_name": ".venv",
   "language": "python",
   "name": "python3"
  },
  "language_info": {
   "codemirror_mode": {
    "name": "ipython",
    "version": 3
   },
   "file_extension": ".py",
   "mimetype": "text/x-python",
   "name": "python",
   "nbconvert_exporter": "python",
   "pygments_lexer": "ipython3",
   "version": "3.10.12"
  }
 },
 "nbformat": 4,
 "nbformat_minor": 2
}
